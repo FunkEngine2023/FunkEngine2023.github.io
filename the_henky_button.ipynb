{
  "nbformat": 4,
  "nbformat_minor": 0,
  "metadata": {
    "colab": {
      "private_outputs": true,
      "provenance": [],
      "cell_execution_strategy": "setup",
      "name": "the-henky-button",
      "authorship_tag": "ABX9TyMj8TLoerfRTTbiThhyn6H2",
      "include_colab_link": true
    },
    "kernelspec": {
      "name": "python3",
      "display_name": "Python 3"
    },
    "language_info": {
      "name": "python"
    }
  },
  "cells": [
    {
      "cell_type": "markdown",
      "metadata": {
        "id": "view-in-github",
        "colab_type": "text"
      },
      "source": [
        "<a href=\"https://colab.research.google.com/github/FunkEngine2023/FunkEngine2023.github.io/blob/main/the_henky_button.ipynb\" target=\"_parent\"><img src=\"https://colab.research.google.com/assets/colab-badge.svg\" alt=\"Open In Colab\"/></a>"
      ]
    },
    {
      "cell_type": "code",
      "execution_count": null,
      "metadata": {
        "id": "7hkcLJpGoc57"
      },
      "outputs": [],
      "source": [
        "# @title { run: \"auto\", form-width: \"110%\", display-mode: \"form\" }\n",
        "#@markdown\n",
        "from google.colab import output\n",
        "# ♫♪ There's something happening here. ♫♪\n",
        "from IPython.core.display import display, HTML\n",
        "# ♫♪ But what it is ain't exactly clear... ♫♪\n",
        "from google.colab.output import clear\n",
        "# ♫♪ There's a man and a nun over there??? ♫♪\n",
        "class InvokeButton(object):\n",
        "  def __init__(self, title, callback):\n",
        "    self._title = title\n",
        "    self._callback = callback\n",
        "  def _repr_html_(self):\n",
        "    callback_id = 'button'\n",
        "    output.register_callback(callback_id, self._callback)\n",
        "    template = \"\"\"<button id=\"{callback_id}\">{title}</button>\n",
        "        <script>\n",
        "          document.querySelector(\"#{callback_id}\").onclick = (e) => {{\n",
        "            google.colab.kernel.invokeFunction('{callback_id}', [], {{}})\n",
        "            e.preventDefault();\n",
        "          }};\n",
        "        </script>\"\"\"\n",
        "    html = template.format(title=self._title, callback_id=callback_id)\n",
        "    return html\n",
        "# ♫♪ Throwing cheese... ♫♪ Up in the... Air!?! ♫♪\n",
        "def user_pulled_a_henky():\n",
        "    output.clear(output_tags='F5')\n",
        "    with output.use_tags(tags='F5'):\n",
        "        display(HTML('<audio autoplay=\"\" src=\"https://tavernai.me/silence.m4a\" loop>'))\n",
        "# ♫♪ I think it's time we: ♫♪ STOP. ♫♪\n",
        "with output.use_tags(tags='F5'):\n",
        "    display(HTML('<audio autoplay=\"\" src=\"https://tavernai.me/silence.m4a\" loop>'))\n",
        "# ♫♪ Colab, ♫♪ what's that sound? ♫♪\n",
        "InvokeButton(\"Henky's button.\", user_pulled_a_henky)\n",
        "# ♫♪ Nobody gets to see ♫♪ what's going down... ♫♪\n",
        "# --FunkEngine"
      ]
    }
  ]
}
