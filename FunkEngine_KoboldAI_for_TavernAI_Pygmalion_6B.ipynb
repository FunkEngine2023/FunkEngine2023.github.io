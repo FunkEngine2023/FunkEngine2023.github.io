{
  "cells": [
    {
      "cell_type": "markdown",
      "metadata": {
        "id": "view-in-github",
        "colab_type": "text"
      },
      "source": [
        "<a href=\"https://colab.research.google.com/github/FunkEngine2023/FunkEngine2023.github.io/blob/Funky_Notebooks/FunkEngine_KoboldAI_for_TavernAI_Pygmalion_6B.ipynb\" target=\"_parent\"><img src=\"https://colab.research.google.com/assets/colab-badge.svg\" alt=\"Open In Colab\"/></a>"
      ]
    },
    {
      "cell_type": "markdown",
      "metadata": {
        "id": "07FdDKeFlngT"
      },
      "source": [
        "# Welcome to **FunkEngine's** KoboldAI Pygmalion Notebook 😎 for **Tavern.AI**\n",
        "# Just click ▶ "
      ]
    },
    {
      "cell_type": "code",
      "source": [
        "#@title Persistence { display-mode: \"form\" }\n",
        "\n",
        "\n",
        "!nvidia-smi\n",
        "\n",
        "!apt-get update\n",
        "\n",
        "# Clean up the place.\n",
        "\n",
        "!apt-get upgrade\n",
        "\n",
        "# (Bitch, y'alls live like this?)\n",
        "\n",
        "!rm -rf /content\n",
        "\n",
        "# Much better...\n",
        "\n",
        "%cd /\n",
        "!mkdir drive\n",
        "from google.colab import drive\n",
        "drive.mount('/drive')\n",
        "\n",
        "# Drive mounted for persistent storage. \n",
        "\n",
        "%cd drive/MyDrive\n",
        "\n",
        "import os\n",
        "if not os.path.exists(\"/drive/MyDrive/colabroot\"):\n",
        "  os.mkdir(\"/drive/MyDrive/colabroot\")\n",
        "\n",
        "# if it doesn't already exist lol.\n",
        "\n",
        "%cd /\n",
        "!ln -s /drive/MyDrive/colabroot content\n",
        "!rm -rf /content/KoboldAI-Client/flask_session\n",
        "\n",
        "# Map folder on drive as the content folder...\n",
        "\n",
        "%cd /content\n",
        "\n",
        "# Our work here is done.\n",
        "\n",
        "!nvidia-smi\n",
        "\n",
        "# Proceed to the next cell."
      ],
      "metadata": {
        "id": "bMqr7u3D5Qlr"
      },
      "execution_count": null,
      "outputs": []
    },
    {
      "cell_type": "code",
      "execution_count": null,
      "metadata": {
        "id": "om8xqeI8lmd4"
      },
      "outputs": [],
      "source": [
        "#@title **Do the dumb things we gotta do... TOUCH. THE. PUPPET. HEAD!** { display-mode: \"code\" }\n",
        "#@title  { vertical-output: true }\n",
        "import os\n",
        "if not os.path.exists(\"/content/drive\"):\n",
        "  os.mkdir(\"/content/drive\")\n",
        "if not os.path.exists(\"/content/drive/MyDrive/\"):\n",
        "  os.mkdir(\"/content/drive/MyDrive/\")\n",
        "!nvidia-smi\n",
        "!wget https://koboldai.org/ckds -O - | bash /dev/stdin --model pygmalion-6b -g  United --revision dev --savemodel"
      ]
    }
  ],
  "metadata": {
    "accelerator": "GPU",
    "colab": {
      "provenance": [],
      "private_outputs": true,
      "collapsed_sections": [
        "07FdDKeFlngT"
      ],
      "include_colab_link": true
    },
    "gpuClass": "standard",
    "kernelspec": {
      "display_name": "Python 3",
      "name": "python3"
    },
    "language_info": {
      "name": "python"
    }
  },
  "nbformat": 4,
  "nbformat_minor": 0
}