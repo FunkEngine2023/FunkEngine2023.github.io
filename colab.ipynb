{
  "cells": [
    {
      "cell_type": "markdown",
      "metadata": {
        "id": "view-in-github",
        "colab_type": "text"
      },
      "source": [
        "<a href=\"https://colab.research.google.com/github/FunkEngine2023/FunkEngine2023.github.io/blob/Funky_Notebooks/colab.ipynb\" target=\"_parent\"><img src=\"https://colab.research.google.com/assets/colab-badge.svg\" alt=\"Open In Colab\"/></a>"
      ]
    },
    {
      "cell_type": "code",
      "source": [
        "# @title { run: \"auto\", form-width: \"110%\", display-mode: \"form\" }\n",
        "#@markdown\n",
        "from google.colab import output\n",
        "# ♫♪ There's something happening here. ♫♪\n",
        "from IPython.core.display import display, HTML\n",
        "# ♫♪ But what it is ain't exactly clear... ♫♪\n",
        "from google.colab.output import clear\n",
        "# ♫♪ There's a man and a nun over there??? ♫♪\n",
        "class InvokeButton(object):\n",
        "  def __init__(self, title, callback):\n",
        "    self._title = title\n",
        "    self._callback = callback\n",
        "  def _repr_html_(self):\n",
        "    callback_id = 'button'\n",
        "    output.register_callback(callback_id, self._callback)\n",
        "    template = \"\"\"<button id=\"{callback_id}\">{title}</button>\n",
        "        <script>\n",
        "          document.querySelector(\"#{callback_id}\").onclick = (e) => {{\n",
        "            google.colab.kernel.invokeFunction('{callback_id}', [], {{}})\n",
        "            e.preventDefault();\n",
        "          }};\n",
        "        </script>\"\"\"\n",
        "    html = template.format(title=self._title, callback_id=callback_id)\n",
        "    return html\n",
        "# ♫♪ Throwing cheese... ♫♪ Up in the... Air!?! ♫♪\n",
        "def user_pulled_a_henky():\n",
        "    output.clear(output_tags='F5')\n",
        "    with output.use_tags(tags='F5'):\n",
        "        display(HTML('<audio autoplay=\"\" src=\"https://raw.githubusercontent.com/KoboldAI/KoboldAI-Client/main/colab/silence.m4a\" loop>'))\n",
        "# ♫♪ I think it's time we: ♫♪ STOP. ♫♪\n",
        "with output.use_tags(tags='F5'):\n",
        "    display(HTML('<audio autoplay=\"\" src=\"https://raw.githubusercontent.com/KoboldAI/KoboldAI-Client/main/colab/silence.m4a\" loop>'))\n",
        "# ♫♪ Colab, ♫♪ what's that sound? ♫♪\n",
        "InvokeButton(\"Henky's button.\", user_pulled_a_henky)\n",
        "# ♫♪ Nobody gets to see ♫♪ what's going down... ♫♪\n",
        "# --FunkEngine"
      ],
      "metadata": {
        "id": "n7A5AfrQPylf"
      },
      "execution_count": null,
      "outputs": []
    },
    {
      "cell_type": "markdown",
      "metadata": {
        "id": "2FCn5tmpn3UV"
      },
      "source": [
        "## Welcome to the Official KoboldCpp Colab Notebook\n",
        "It's really easy to get started. Just press the **Play** button below, and then connect to the **Cloudflare URL** shown at the end.\n",
        "You can select a model from the dropdown, or enter a **custom URL** to a GGUF model (Example: `https://huggingface.co/KoboldAI/LLaMA2-13B-Tiefighter-GGUF/resolve/main/LLaMA2-13B-Tiefighter.Q4_K_M.gguf`)\n",
        "\n",
        "**Keep this page open and occationally check for captcha's so that your AI is not shut down**"
      ]
    },
    {
      "cell_type": "code",
      "execution_count": null,
      "metadata": {
        "cellView": "form",
        "id": "uJS9i_Dltv8Y"
      },
      "outputs": [],
      "source": [
        "#@title <b>↓↓↓↓↓↓↓↓↓↓↓↓↓↓↓↓ Enter your model below ↓↓↓↓↓↓↓↓↓↓↓↓↓↓↓↓ and then click the Play button to start Koboldcpp</b>\n",
        "Layers = 43\n",
        "ContextSize = 4096\n",
        "!!rm -rf /content/sample_data/\n",
        "!!sudo apt install aria2 -y\n",
        "Model = \"https://huggingface.co/TheBloke/Noromaid-13B-v0.2-GGUF/resolve/main/noromaid-13b-v0.2.Q4_K_M.gguf\" #@param [\"https://huggingface.co/KoboldAI/LLaMA2-13B-Tiefighter-GGUF/resolve/main/LLaMA2-13B-Tiefighter.Q4_K_M.gguf\",\"https://huggingface.co/TheBloke/MythoMax-L2-13B-GGUF/resolve/main/mythomax-l2-13b.Q4_K_M.gguf\",\"https://huggingface.co/TheBloke/ReMM-SLERP-L2-13B-GGUF/resolve/main/remm-slerp-l2-13b.Q4_K_M.gguf\",\"https://huggingface.co/TheBloke/Xwin-LM-13B-v0.2-GGUF/resolve/main/xwin-lm-13b-v0.2.Q4_K_M.gguf\",\"https://huggingface.co/TheBloke/Stheno-L2-13B-GGUF/resolve/main/stheno-l2-13b.Q4_K_M.gguf\",\"https://huggingface.co/TheBloke/MythoMax-L2-Kimiko-v2-13B-GGUF/resolve/main/mythomax-l2-kimiko-v2-13b.Q4_K_M.gguf\",\"https://huggingface.co/TheBloke/airoboros-mistral2.2-7B-GGUF/resolve/main/airoboros-mistral2.2-7b.Q4_K_S.gguf\"]{allow-input: true}\n",
        "#Layers = 43 #@param [43]{allow-input: true}\n",
        "#ContextSize = 4096 #@param [4096] {allow-input: true}\n",
        "#ForceRebuild = False #@param {type:\"boolean\"}\n",
        "import os\n",
        "if not os.path.isfile(\"/opt/bin/nvidia-smi\"):\n",
        "  raise RuntimeError(\"⚠️Colab did not give you a GPU due to usage limits, this can take a few hours before they let you back in. Check out https://lite.koboldai.net for a free alternative (that does not provide an API link but can load KoboldAI saves and chat cards) or subscribe to Colab Pro for immediate access.⚠️\")\n",
        "os.chdir('/content/')\n",
        "!!git clone https://github.com/LostRuins/koboldcpp\n",
        "os.chdir('/content/koboldcpp/')\n",
        "kvers = !(cat koboldcpp.py | grep 'KcppVersion = ' | cut -d '\"' -f2)\n",
        "kvers = kvers[0]\n",
        "#if ForceRebuild:\n",
        "#  kvers = \"force_rebuild\"\n",
        "print(\"Finding prebuilt binary for \", kvers)\n",
        "!!wget -O dlfile.tmp https://kcppcolab.concedo.workers.dev/?{kvers} && mv dlfile.tmp koboldcpp_cublas.so\n",
        "!!test -f koboldcpp_cublas.so && echo Prebuilt Binary Exists || echo Prebuilt Binary Does Not Exist\n",
        "!!test -f koboldcpp_cublas.so && echo Build Skipped || make koboldcpp_cublas LLAMA_CUBLAS=1 LLAMA_PORTABLE=1\n",
        "os.link('koboldcpp_cublas.so', 'koboldcpp_cublas.dat')\n",
        "!!aria2c -x 10 -o model.ggml --download-result=default --allow-overwrite=true --file-allocation=none $Model\n",
        "!python3 koboldcpp.py model.ggml --usecublas 0 mmq --multiuser --gpulayers $Layers --contextsize $ContextSize --quiet --remotetunnel"
      ]
    }
  ],
  "metadata": {
    "accelerator": "GPU",
    "colab": {
      "cell_execution_strategy": "setup",
      "gpuType": "T4",
      "private_outputs": true,
      "provenance": [],
      "include_colab_link": true
    },
    "kernelspec": {
      "display_name": "Python 3",
      "name": "python3"
    },
    "language_info": {
      "name": "python"
    }
  },
  "nbformat": 4,
  "nbformat_minor": 0
}