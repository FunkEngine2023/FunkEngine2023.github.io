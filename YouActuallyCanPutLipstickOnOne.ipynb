{
  "nbformat": 4,
  "nbformat_minor": 0,
  "metadata": {
    "colab": {
      "private_outputs": true,
      "provenance": [],
      "gpuType": "T4",
      "cell_execution_strategy": "setup",
      "collapsed_sections": [
        "BUPp_Fxu32Oh"
      ],
      "authorship_tag": "ABX9TyOcZHwhXd1R0b2hg5ReLJ50",
      "include_colab_link": true
    },
    "kernelspec": {
      "name": "python3",
      "display_name": "Python 3"
    },
    "language_info": {
      "name": "python"
    },
    "accelerator": "GPU"
  },
  "cells": [
    {
      "cell_type": "markdown",
      "metadata": {
        "id": "view-in-github",
        "colab_type": "text"
      },
      "source": [
        "<a href=\"https://colab.research.google.com/github/FunkEngine2023/FunkEngine2023.github.io/blob/main/YouActuallyCanPutLipstickOnOne.ipynb\" target=\"_parent\"><img src=\"https://colab.research.google.com/assets/colab-badge.svg\" alt=\"Open In Colab\"/></a>"
      ]
    },
    {
      "cell_type": "markdown",
      "source": [
        "# **Turnkey FunkEngine-6B!**\n",
        "\n",
        "\n",
        "---\n",
        "## V----- Push the Button.\n"
      ],
      "metadata": {
        "id": "BUPp_Fxu32Oh"
      }
    },
    {
      "cell_type": "code",
      "source": [
        "#@title { run: \"auto\", form-width: \"100%\", display-mode: \"form\" }\n",
        "#@markdown\n",
        "%%html --isolated\n",
        "<video autoplay=\"\" src=\"https://github.com/FunkEngine2023/FunkEngine2023.github.io/raw/Funky_Notebooks/NFM.mp4\"></video><h1><b>--FunkEngine</b></h1>"
      ],
      "metadata": {
        "id": "TRLH2-to3zSR"
      },
      "execution_count": null,
      "outputs": []
    },
    {
      "cell_type": "code",
      "source": [
        "#@title # **FunkEngine-6B** { run: \"auto\", form-width: \"100%\", display-mode: \"form\" }\n",
        "!nvidia-smi -pm 1\n",
        "!nvidia-smi -pl 69\n",
        "!nvidia-smi -c 3\n",
        "!nvidia-smi\n",
        "%cd /\n",
        "from google.colab import drive\n",
        "import os\n",
        "!rm -rf /content/sample_data/\n",
        "!rm -rf /content/.config/\n",
        "drive.mount('/content/drive', force_remount=True)\n",
        "if not os.path.exists(\"/content/drive\"):\n",
        "  os.mkdir(\"/content/drive\")\n",
        "if not os.path.exists(\"/content/drive/MyDrive\"):\n",
        "  os.mkdir(\"/content/drive/MyDrive\")\n",
        "if not os.path.exists(\"/content/drive/MyDrive/KoboldAI\"):\n",
        "    os.mkdir(\"/content/drive/MyDrive/KoboldAI\")\n",
        "if not os.path.exists(\"/content/drive/MyDrive/KoboldAI/models\"):\n",
        "    os.mkdir(\"/content/drive/MyDrive/KoboldAI/models\")\n",
        "%cd /content\n",
        "!wget https://koboldai.org/ckds -O - | bash /dev/stdin --init only -g united\n",
        "%cd /content/KoboldAI-Client\n",
        "!nvidia-smi\n",
        "!python3 aiserver.py --remote --override_rename --override_delete --lowmem --quiet --configname FunkEngine-6B --model FunkEngine/FunkEngine-6B"
      ],
      "metadata": {
        "id": "h3qeuPYcW7in"
      },
      "execution_count": null,
      "outputs": []
    }
  ]
}