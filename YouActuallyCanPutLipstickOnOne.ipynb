{
  "nbformat": 4,
  "nbformat_minor": 0,
  "metadata": {
    "colab": {
      "private_outputs": true,
      "provenance": [],
      "gpuType": "T4",
      "cell_execution_strategy": "setup",
      "authorship_tag": "ABX9TyOyZrm7GFDe/trPbmRIYnUe",
      "include_colab_link": true
    },
    "kernelspec": {
      "name": "python3",
      "display_name": "Python 3"
    },
    "language_info": {
      "name": "python"
    },
    "accelerator": "GPU"
  },
  "cells": [
    {
      "cell_type": "markdown",
      "metadata": {
        "id": "view-in-github",
        "colab_type": "text"
      },
      "source": [
        "<a href=\"https://colab.research.google.com/github/FunkEngine2023/FunkEngine2023.github.io/blob/Funky_Notebooks/YouActuallyCanPutLipstickOnOne.ipynb\" target=\"_parent\"><img src=\"https://colab.research.google.com/assets/colab-badge.svg\" alt=\"Open In Colab\"/></a>"
      ]
    },
    {
      "cell_type": "code",
      "source": [
        "#@title # **Turnkey FunkEngine-6B!** { display-mode: \"form\" }\n",
        "#@markdown # <-- Push the button....\n",
        "!nvidia-smi -pm 1\n",
        "!nvidia-smi -pl 69\n",
        "!nvidia-smi -c 3\n",
        "!nvidia-smi\n",
        "%cd /\n",
        "from google.colab import drive\n",
        "import os\n",
        "!rm -rf /content/sample_data/\n",
        "!rm -rf /content/.config/\n",
        "drive.mount('/content/drive', force_remount=True)\n",
        "if not os.path.exists(\"/content/drive\"):\n",
        "  os.mkdir(\"/content/drive\")\n",
        "if not os.path.exists(\"/content/drive/MyDrive\"):\n",
        "  os.mkdir(\"/content/drive/MyDrive\")\n",
        "if not os.path.exists(\"/content/drive/MyDrive/KoboldAI\"):\n",
        "    os.mkdir(\"/content/drive/MyDrive/KoboldAI\")\n",
        "if not os.path.exists(\"/content/drive/MyDrive/KoboldAI/models\"):\n",
        "    os.mkdir(\"/content/drive/MyDrive/KoboldAI/models\")\n",
        "%cd /content\n",
        "!wget https://koboldai.org/ckds -O - | bash /dev/stdin --init only -g united\n",
        "%cd /content/KoboldAI-Client\n",
        "!mkdir /content/KoboldAI-Client/models/FunkEngine-6B\n",
        "%cd /content/KoboldAI-Client/models/FunkEngine-6B\n",
        "!wget -r -np -nH -R \"index.html*\" --cut-dirs=2 https://www.urine.tattoo/FE6B/A/\n",
        "!wget https://www.urine.tattoo/FE6B/2/pytorch_model-00001-of-00002.bin\n",
        "!wget https://www.urine.tattoo/FE6B/2/pytorch_model-00002-of-00002.bin\n",
        "%cd /content/KoboldAI-Client\n",
        "!nvidia-smi\n",
        "!python3 aiserver.py --remote --override_rename --override_delete --lowmem --quiet --configname FunkEngine-6B --model FunkEngine/FunkEngine-6B"
      ],
      "metadata": {
        "id": "h3qeuPYcW7in"
      },
      "execution_count": null,
      "outputs": []
    }
  ]
}